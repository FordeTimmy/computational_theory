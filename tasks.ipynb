{
 "cells": [
  {
   "cell_type": "markdown",
   "metadata": {},
   "source": [
    "## Task 1 "
   ]
  },
  {
   "cell_type": "markdown",
   "metadata": {},
   "source": [
    "### Research on Task 1"
   ]
  },
  {
   "cell_type": "markdown",
   "metadata": {},
   "source": [
    "#### Binary Representation \n",
    "Binary representation  is a way of representing numbers, text, or data using two digits 0 and 1. This system is used by computers because they operate using binary logic. [Binary Representations](https://www.geeksforgeeks.org/binary-representations-in-digital-logic/ \"GeeksforGeeks: Binary Representations\")\n",
    "\n",
    "\n",
    "In Binary:\n",
    " - Each digit is called a bit.\n",
    " - A group of 8 bits froms a byte.\n",
    " - Binary numbers represent values in base-2, as opposed to base-10 in decimal."
   ]
  },
  {
   "cell_type": "markdown",
   "metadata": {},
   "source": [
    "#### Bit Shifts \n",
    "A bit shift is an operation that moves bits to the left or right within a binary number. [Bit Shifts](https://www.geeksforgeeks.org/shift-micro-operations-in-computer-architecture/ \"GeeksforGeeks: Shift Micro-Operations\")\n",
    "\n",
    "\n",
    "There are two main types of bit shifts:\n",
    "1. Left Shift (<<): Moves the bit to the left and fills the rightmost bit with 0:\n",
    "\n",
    "- Example:\n",
    "0010 1101 shifted left by 1 position becomes 0101 1010\n",
    "\n",
    "2. Right Shift (>>): Moves the bit to the right and fills the leftmost bit depending on the shift type:\n",
    "\n",
    "- Logical right shift: Fills leftmost bit with 0.\n",
    "\n",
    "- Arithmetic right shift: Fills leftmost bit with the sign bit(used for signed numbers).\n",
    "\n",
    "- Example of arithmetic shift: 1011 1000 shifted right by 1 position with a sign extension becomes 1101 1100.\n",
    "\n",
    "- Effect: Dividing the number by 2 (for postive numbers).\n",
    "\n"
   ]
  },
  {
   "cell_type": "markdown",
   "metadata": {},
   "source": [
    "#### Circular Shifts (Rotations)\n",
    "\n",
    "A circular shift (also called rotation) is simialr to bit shift, but instead of discarding bits that are shifted off, they are wrapped around and reinserted. [Circular Shifts](https://www.geeksforgeeks.org/shift-micro-operations-in-computer-architecture/ \"GeeksforGeeks: Shift Micro-Operations\")\n",
    "\n",
    "1. Circular Left Shift: The leftmost bit is shifted out and moved to the leftmost position.\n",
    "\n",
    "- Example: 1011 1000 shifted left by 1 becomes 0111 0001\n",
    "\n",
    "2. Circular Right Shift: The rightmost bit is shifted out and moved to the leftmost position.\n",
    "\n",
    "- Example: 1011 1000 shifted right by 1 becomes 0101 1100."
   ]
  },
  {
   "cell_type": "markdown",
   "metadata": {},
   "source": [
    "### Task 1 code"
   ]
  },
  {
   "cell_type": "markdown",
   "metadata": {},
   "source": [
    "## Task 2"
   ]
  },
  {
   "cell_type": "markdown",
   "metadata": {},
   "source": [
    "### Research on Task 2"
   ]
  },
  {
   "cell_type": "markdown",
   "metadata": {},
   "source": [
    "#### Hashing  \n",
    "\n",
    "Hashing is a technique used to store and retrieve data efficinetly in computer systems. it mapps data of arbitray size to a fixed-size value, called a hash code or hash value. \n",
    "\n",
    "#### Hash Functions \n",
    "\n",
    "Hash function is  a mathematical function that takes in an input or key and produces a hash value. Primary goal of hash function is to ensure two diffrent inputs rarley produce the same hash value [Hash Functions](https://www.codingdrills.com/tutorial/introduction-to-searching-algorithms/hash-functions \"CodingDrills: Hash Functions\")\n"
   ]
  },
  {
   "cell_type": "markdown",
   "metadata": {},
   "source": [
    " #### Conversion of C to Python\n",
    "\n",
    " To make the conversion of C Python we need to undertand the use of pointers, unsigned integers, and loops. [Migrating from C# to Python](https://almarefa.net/blog/tutorial-migrating-from-c-to-python \"Almarefa: Migrating from C# to Python\")\n",
    "\n",
    "\n",
    " 1. Pointers:\n",
    "\n",
    " - C: Uses pointers (char *s) to access memory directly.\n",
    " \n",
    " - Pyhton: No pointers, strings are iterable \n",
    "\n",
    " 2. Unsigned Integers:\n",
    "\n",
    " - C: Unsigned intergers can overflow.\n",
    "\n",
    " - Python: Intergers do not overflow. they expand automatically.\n",
    "\n",
    " 3. Loops:\n",
    "\n",
    " - C: Traditional for loops with initailization, condition, and increment.\n",
    "\n",
    " - Phyton: Simple for-in loops using range()\n",
    "\n",
    "\n"
   ]
  },
  {
   "cell_type": "markdown",
   "metadata": {},
   "source": [
    "### Task 2 code"
   ]
  },
  {
   "cell_type": "markdown",
   "metadata": {},
   "source": [
    "Why are 31 and 101 used?"
   ]
  },
  {
   "cell_type": "markdown",
   "metadata": {},
   "source": [
    "## Task 3"
   ]
  },
  {
   "cell_type": "markdown",
   "metadata": {},
   "source": [
    "### Research on Task 3"
   ]
  },
  {
   "cell_type": "markdown",
   "metadata": {},
   "source": [
    " #### SHA256 Padding Rules\n",
    "\n",
    " - Padding is a process used in SHA256 hashing algorithm to ensure that the lenght of the input message is a multiple of 512 bits. [How SHA-256 Works](https://medium.com/@bajrang1081siyag/how-sha-256-works-4951088ab9f8 \"Medium: How SHA-256 Works\")\n",
    "\n",
    "\n",
    " - Padding ensures that the input messages can be processed correctly without errors. it appends a 1 bit followed by zeros, and the lenght of the orginal message as a 64-bit bigendian integer."
   ]
  },
  {
   "cell_type": "markdown",
   "metadata": {},
   "source": [
    "#### Binary and Hexadecimal Data Conversions\n",
    "\n",
    "- Binary is a base-2 number system while hexadecimal is base-16 represents numbers using digits 0-9 and letters A-F. \n",
    "\n",
    "- Bianry is used for bitwise operations while hexadecimal is a more human readable representation of binary data[How to Convert Binary to Hexadecimal](https://www.geeksforgeeks.org/how-to-convert-binary-to-hexadecimal/ \"GeeksforGeeks: How to Convert Binary to Hexadecimal\")\n"
   ]
  },
  {
   "cell_type": "markdown",
   "metadata": {},
   "source": [
    "#### Bitwise Operations in Python\n",
    "\n",
    "- Bitwise operations manipulate individual bits while numbers using operators like AND (&), OR (|), XOR (^), and shifts (<<, >>).\n",
    "\n",
    "- In SHA256, bitwise shifts and logical operations are frequently used to mix and scramble input data efficiently during the hashing process.[Python Bitwise Operators](https://www.w3schools.com/python/gloss_python_bitwise_operators.asp \"W3Schools: Python Bitwise Operators\")\n"
   ]
  },
  {
   "cell_type": "markdown",
   "metadata": {},
   "source": [
    "### Task 3 code"
   ]
  },
  {
   "cell_type": "markdown",
   "metadata": {},
   "source": [
    "## Task 4"
   ]
  },
  {
   "cell_type": "markdown",
   "metadata": {},
   "source": [
    "### Research on Task 4"
   ]
  },
  {
   "cell_type": "markdown",
   "metadata": {},
   "source": [
    "#### What Are Prime Numbers?\n",
    "\n",
    "- A prime number is a number greater than 1 that has no divisors other than 1 and itself (eg. 2, 3, 5, 7, 11...) [Prime Numbers](https://www.geeksforgeeks.org/prime-numbers/ \"GeeksforGeeks: Prime Numbers\")\n"
   ]
  },
  {
   "cell_type": "markdown",
   "metadata": {},
   "source": [
    "#### Two Common Algorithms to Find Prime Numbers\n",
    "\n",
    " 1. Sieve of Eratosthenes:\n",
    "  \n",
    "  - Start with a list of numbers up to the desired limit. Eliminate multiples of each prime, starting from 2, and the remaining numbers are primes.\n",
    "\n",
    "  -  eliminates non-primes using a systematic approach. [Sieve of Eratosthenes](https://www.geeksforgeeks.org/sieve-of-eratosthenes/ \"GeeksforGeeks: Sieve of Eratosthenes\")\n",
    "\n",
    "  \n",
    " 2. Trial Division:\n",
    "\n",
    " -  For each number, check if it is divisible by any number less than or equal to its square root. If no divisors are found, it is prime.\n",
    "\n",
    " - If a number n is divisible by any number then it’s not a prime number.[Trial Division Algorithm for Prime Factorization](https://www.geeksforgeeks.org/trial-division-algorithm-for-prime-factorization/ \"GeeksforGeeks: Trial Division Algorithm for Prime Factorization\")\n"
   ]
  },
  {
   "cell_type": "markdown",
   "metadata": {},
   "source": [
    "### Task 4 code"
   ]
  },
  {
   "cell_type": "markdown",
   "metadata": {},
   "source": [
    "## Task 5"
   ]
  },
  {
   "cell_type": "markdown",
   "metadata": {},
   "source": [
    "### Research on Task 5"
   ]
  },
  {
   "cell_type": "markdown",
   "metadata": {},
   "source": [
    "####  Fractional Part of a Square Root\n",
    "\n",
    "- When you take the square root of a number, it has two parts the whole number part before the decimal and the fractional part after the decimal.\n",
    "\n",
    "- The square root of 2 is approximately 1.414213....\n",
    "- The whole number part is 1.\n",
    "- The fractional part is 0.414213. [Calculate Fractional Part of Square Root Without Taking Square Root](https://math.stackexchange.com/questions/1277652/calculate-fractional-part-of-square-root-without-taking-square-root \"Math Stack Exchange: Calculate Fractional Part of Square Root Without Taking Square Root\")\n",
    "\n",
    "\n",
    "\n"
   ]
  },
  {
   "cell_type": "markdown",
   "metadata": {},
   "source": [
    "### Task 5 code"
   ]
  },
  {
   "cell_type": "markdown",
   "metadata": {},
   "source": [
    "## Task 6"
   ]
  },
  {
   "cell_type": "markdown",
   "metadata": {},
   "source": [
    "### Research on Task 6"
   ]
  },
  {
   "cell_type": "markdown",
   "metadata": {},
   "source": [
    "### Task 6 code"
   ]
  },
  {
   "cell_type": "markdown",
   "metadata": {},
   "source": [
    "## Task 7"
   ]
  },
  {
   "cell_type": "markdown",
   "metadata": {},
   "source": [
    "### Research on Task 7"
   ]
  },
  {
   "cell_type": "markdown",
   "metadata": {},
   "source": [
    "### Task 7 code"
   ]
  },
  {
   "cell_type": "markdown",
   "metadata": {},
   "source": [
    "## Task 8"
   ]
  },
  {
   "cell_type": "markdown",
   "metadata": {},
   "source": [
    "### Research on Task 8"
   ]
  },
  {
   "cell_type": "markdown",
   "metadata": {},
   "source": [
    "### Task 8 code"
   ]
  }
 ],
 "metadata": {
  "language_info": {
   "name": "python"
  }
 },
 "nbformat": 4,
 "nbformat_minor": 2
}
