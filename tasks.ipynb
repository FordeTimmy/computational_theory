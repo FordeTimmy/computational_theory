{
 "cells": [
  {
   "cell_type": "markdown",
   "metadata": {},
   "source": [
    "## Task 1 "
   ]
  },
  {
   "cell_type": "markdown",
   "metadata": {},
   "source": [
    "### Research on Task 1"
   ]
  },
  {
   "cell_type": "markdown",
   "metadata": {},
   "source": [
    "#### Binary Representation \n",
    "Binary representation  is a way of representing numbers, text, or data using two digits 0 and 1. This system is used by computers because they operate using binary logic. [Binary Representations](https://www.geeksforgeeks.org/binary-representations-in-digital-logic/ \"GeeksforGeeks: Binary Representations\")\n",
    "\n",
    "\n",
    "In Binary:\n",
    " - Each digit is called a bit.\n",
    " - A group of 8 bits froms a byte.\n",
    " - Binary numbers represent values in base-2, as opposed to base-10 in decimal."
   ]
  },
  {
   "cell_type": "markdown",
   "metadata": {},
   "source": [
    "#### Bit Shifts \n",
    "A bit shift is an operation that moves bits to the left or right within a binary number. [Bit Shifts](https://www.geeksforgeeks.org/shift-micro-operations-in-computer-architecture/ \"GeeksforGeeks: Shift Micro-Operations\")\n",
    "\n",
    "\n",
    "There are two main types of bit shifts:\n",
    "1. Left Shift (<<): Moves the bit to the left and fills the rightmost bit with 0:\n",
    "\n",
    "- Example:\n",
    "0010 1101 shifted left by 1 position becomes 0101 1010\n",
    "\n",
    "2. Right Shift (>>): Moves the bit to the right and fills the leftmost bit depending on the shift type:\n",
    "\n",
    "- Logical right shift: Fills leftmost bit with 0.\n",
    "\n",
    "- Arithmetic right shift: Fills leftmost bit with the sign bit(used for signed numbers).\n",
    "\n",
    "- Example of arithmetic shift: 1011 1000 shifted right by 1 position with a sign extension becomes 1101 1100.\n",
    "\n",
    "- Effect: Dividing the number by 2 (for postive numbers).\n",
    "\n"
   ]
  },
  {
   "cell_type": "markdown",
   "metadata": {},
   "source": [
    "#### Circular Shifts (Rotations)\n",
    "\n",
    "A circular shift (also called rotation) is simialr to bit shift, but instead of discarding bits that are shifted off, they are wrapped around and reinserted. [Circular Shifts](https://www.geeksforgeeks.org/shift-micro-operations-in-computer-architecture/ \"GeeksforGeeks: Shift Micro-Operations\")\n",
    "\n",
    "1. Circular Left Shift: The leftmost bit is shifted out and moved to the leftmost position.\n",
    "\n",
    "- Example: 1011 1000 shifted left by 1 becomes 0111 0001\n",
    "\n",
    "2. Circular Right Shift: The rightmost bit is shifted out and moved to the leftmost position.\n",
    "\n",
    "- Example: 1011 1000 shifted right by 1 becomes 0101 1100."
   ]
  },
  {
   "cell_type": "markdown",
   "metadata": {},
   "source": [
    "### Task 1 code"
   ]
  },
  {
   "cell_type": "code",
   "execution_count": 17,
   "metadata": {},
   "outputs": [
    {
     "name": "stdout",
     "output_type": "stream",
     "text": [
      "Original: 0b1101 (13)\n",
      "Rotated Left: 0b11010 (26)\n"
     ]
    }
   ],
   "source": [
    "def rotl(x, n=1):\n",
    "    \"\"\"Rotate the bits of a 32-bit unsigned integer to the left by n places.\"\"\"\n",
    "    return ((x << n) | (x >> (32 - n))) & 0xFFFFFFFF  # Keep within 32 bits using a bitmask\n",
    "\n",
    "# Example test\n",
    "x = 0b1101  # Binary 1101 (Decimal 13)\n",
    "rotated_left = rotl(x, 1)  # Rotate left by 1 bit\n",
    "\n",
    "print(f\"Original: {bin(x)} ({x})\")\n",
    "print(f\"Rotated Left: {bin(rotated_left)} ({rotated_left})\")\n"
   ]
  },
  {
   "cell_type": "markdown",
   "metadata": {},
   "source": [
    "\n",
    "- Bitwise Left Rotation (rotl)\n",
    "This function rotates the bits of a 32-bit integer left by n positions.\n",
    "\n",
    "- x << n shifts bits to the left.\n",
    "x >> (32 - n) moves the overflowing bits to the right.\n",
    "& 0xFFFFFFFF ensures we stay within 32 bits.\n",
    "\n",
    "- Example: 0b1101 (13 in decimal) rotated left by 1 bit becomes 0b1010 (26 in decimal). [Bitwise Operators Left Rotation](https://realpython.com/python-bitwise-operators/#left-shift \"Real Python: Bitwise Operators\")"
   ]
  },
  {
   "cell_type": "code",
   "execution_count": 18,
   "metadata": {},
   "outputs": [
    {
     "name": "stdout",
     "output_type": "stream",
     "text": [
      "Original: 0b1101 (13)\n",
      "Rotated Right: 0b10000000000000000000000000000110 (2147483654)\n"
     ]
    }
   ],
   "source": [
    "def rotr(x, n=1):\n",
    "    \"\"\"Rotate the bits in a 32-bit unsigned integer to the right by n places.\"\"\"\n",
    "    n = n % 32  # Ensure n stays within a valid range (0-31)\n",
    "    return ((x >> n) | ((x << (32 - n)) & 0xFFFFFFFF))  # Keep within 32 bits\n",
    "\n",
    "# Example test\n",
    "x = 0b1101  # Binary 1101 (Decimal 13)\n",
    "rotated_right = rotr(x, 1)  # Rotate right by 1 bit\n",
    "\n",
    "print(f\"Original: {bin(x)} ({x})\")\n",
    "print(f\"Rotated Right: {bin(rotated_right)} ({rotated_right})\")\n"
   ]
  },
  {
   "cell_type": "markdown",
   "metadata": {},
   "source": [
    "- Bitwise Right Rotation (rotr) This function rotates the bits of a 32-bit unsigned integer to the right by n positions.\n",
    "\n",
    "- x >> n shifts bits to the right.\n",
    "x << (32 - n) moves the lost rightmost bits to the leftmost positions.\n",
    "& 0xFFFFFFFF ensures we stay within 32 bits.\n",
    "- Example: 0b1101 (13 in decimal) rotated right by 1 bit becomes 0b1011 (11 in decimal)\n",
    "- This function assumes 32 bits, making it inaccurate for smaller numbers:\n",
    "\n",
    "- Extra bits introduced: Left shift (x << (32 - n)) moves bits too far.\n",
    "- Incorrect results: A 4-bit number is treated as 32-bit, corrupting the rotation. [Bitwise Operators Right Rotation](https://realpython.com/python-bitwise-operators/#right-shift \"Real Python: Bitwise Operators\")"
   ]
  },
  {
   "cell_type": "code",
   "execution_count": 19,
   "metadata": {},
   "outputs": [
    {
     "name": "stdout",
     "output_type": "stream",
     "text": [
      "Result (Binary): 0b1010\n",
      "Result (Decimal): 10\n"
     ]
    }
   ],
   "source": [
    "def ch(x, y, z):\n",
    "    \"\"\"Choose bits from y where x has 1s, and from z where x has 0s.\"\"\"\n",
    "    bit_width = max(x.bit_length(), y.bit_length(), z.bit_length())  # Auto-detect bit width\n",
    "    not_x = (~x) & ((1 << bit_width) - 1)  # Properly mask negation to correct bit width\n",
    "    return (x & y) | (not_x & z)  # Select y where x=1, z where x=0\n",
    "\n",
    "# Example values (in binary)\n",
    "x = 0b1100  # 12 in decimal\n",
    "y = 0b1010  # 10 in decimal\n",
    "z = 0b0110  # 6 in decimal\n",
    "\n",
    "# Call the function\n",
    "result = ch(x, y, z)\n",
    "\n",
    "# Print the result in binary and decimal\n",
    "print(f\"Result (Binary): {bin(result)}\")\n",
    "print(f\"Result (Decimal): {result}\")\n"
   ]
  },
  {
   "cell_type": "markdown",
   "metadata": {},
   "source": [
    "- Bitwise Choose Function (ch). This function picks bits from y where x is 1 and from z where x is 0. It ensures the correct selection by handling different bit sizes properly.\n",
    "\n",
    "- Find the largest bit size needed. bit_width = max(x.bit_length(), y.bit_length(), z.bit_length()) this makes sure we work with the necessary number of bits \n",
    "\n",
    "- Fixes negation (~x) by masking it to the detected bit width. not_x = (~x) & ((1 << bit_width) - 1)\n",
    "\n",
    "- Chooses bits correctly. return (x & y) | (not_x & z)\n",
    "- (x & y): Keeps bits from y where x has 1s.\n",
    "(not_x & z): Keeps bits from z where x has 0s.\n",
    "| (bitwise OR) combines both results to form the final output.\n",
    "\n",
    "- Example: x = 0b1100 (12 in decimal), y = 0b1010 (10 in decimal), z = 0b0110 (6 in decimal).[Bitwise Logical Operators](https://realpython.com/python-bitwise-operators/#bitwise-logical-operators \"Real Python: Bitwise Logical Operators\")"
   ]
  },
  {
   "cell_type": "code",
   "execution_count": 20,
   "metadata": {},
   "outputs": [
    {
     "name": "stdout",
     "output_type": "stream",
     "text": [
      "Majority Function Output: 0b1001\n"
     ]
    }
   ],
   "source": [
    "def maj(x, y, z):\n",
    "    \"\"\"\n",
    "    Take a majority vote of the bits in x, y, and z.\n",
    "    \n",
    "    Parameters:\n",
    "        x (int): First input (32-bit integer).\n",
    "        y (int): Second input (32-bit integer).\n",
    "        z (int): Third input (32-bit integer).\n",
    "    \n",
    "    Returns:\n",
    "        int: Majority vote result.\n",
    "    \"\"\"\n",
    "    return (x & y) ^ (x & z) ^ (y & z)  # Majority vote logic\n",
    "\n",
    "# Example test\n",
    "x = 0b1011\n",
    "y = 0b1101\n",
    "z = 0b1001\n",
    "\n",
    "result = maj(x, y, z)\n",
    "print(f\"Majority Function Output: {bin(result)}\")\n"
   ]
  },
  {
   "cell_type": "markdown",
   "metadata": {},
   "source": [
    "- The Majority Function (maj)\n",
    "This function determines the majority value for each bit across three numbers:\n",
    "\n",
    "- A bit is set to 1 if at least two out of the three inputs have 1.\n",
    "- Example: x = 1011, y = 1101, z = 1001\n",
    "The output is calculated using majority logic for each bit. [Majority Function](https://en.wikipedia.org/wiki/Majority_function \"Wikipedia: Majority Function\")"
   ]
  },
  {
   "cell_type": "code",
   "execution_count": 21,
   "metadata": {},
   "outputs": [
    {
     "name": "stdout",
     "output_type": "stream",
     "text": [
      "rotl(x, 1): 0b1010101010101010101010101010101\n",
      "rotr(x, 1): 0b1010101010101010101010101010101\n",
      "ch(x, y, z): 0b11011000110110001101100011011000\n",
      "maj(x, y, z): 0b11101000111010001110100011101000\n",
      "\n",
      "rotl(0s, 1): 0b0\n",
      "rotr(0s, 1): 0b0\n",
      "ch(0s, 0s, 0s): 0b0\n",
      "maj(0s, 0s, 0s): 0b0\n",
      "\n",
      "rotl(1s, 1): 0b11111111111111111111111111111111\n",
      "rotr(1s, 1): 0b11111111111111111111111111111111\n",
      "ch(1s, 1s, 1s): 0b11111111111111111111111111111111\n",
      "maj(1s, 1s, 1s): 0b11111111111111111111111111111111\n",
      "\n",
      "ch(x, y, z): 0b1010000010100000101000001010000\n",
      "maj(x, y, z): 0b11110000111100001111000011110000\n"
     ]
    }
   ],
   "source": [
    "# Testing the functions\n",
    "if __name__ == \"__main__\":\n",
    "    # Example inputs\n",
    "    x = 0b10101010101010101010101010101010  # 32-bit alternating bits\n",
    "    y = 0b11001100110011001100110011001100\n",
    "    z = 0b11110000111100001111000011110000\n",
    "\n",
    "    print(\"rotl(x, 1):\", bin(rotl(x, 1)))\n",
    "    print(\"rotr(x, 1):\", bin(rotr(x, 1)))\n",
    "\n",
    "    # Choose and majority functions\n",
    "    print(\"ch(x, y, z):\", bin(ch(x, y, z)))\n",
    "    print(\"maj(x, y, z):\", bin(maj(x, y, z)))\n",
    "\n",
    "    # Edge case: All bits set to 0\n",
    "    x = 0b00000000000000000000000000000000\n",
    "    y = 0b00000000000000000000000000000000\n",
    "    z = 0b00000000000000000000000000000000\n",
    "\n",
    "    print(\"\\nrotl(0s, 1):\", bin(rotl(x, 1)))\n",
    "    print(\"rotr(0s, 1):\", bin(rotr(x, 1)))\n",
    "    print(\"ch(0s, 0s, 0s):\", bin(ch(x, y, z)))\n",
    "    print(\"maj(0s, 0s, 0s):\", bin(maj(x, y, z)))\n",
    "\n",
    "    # Edge case: All bits set to 1\n",
    "    x = 0xFFFFFFFF  # 32-bit all ones\n",
    "    y = 0xFFFFFFFF\n",
    "    z = 0xFFFFFFFF\n",
    "\n",
    "    print(\"\\nrotl(1s, 1):\", bin(rotl(x, 1)))\n",
    "    print(\"rotr(1s, 1):\", bin(rotr(x, 1)))\n",
    "    print(\"ch(1s, 1s, 1s):\", bin(ch(x, y, z)))\n",
    "    print(\"maj(1s, 1s, 1s):\", bin(maj(x, y, z)))\n",
    "\n",
    "    # Edge case: x, y, and z have alternating patterns\n",
    "    x = 0b10101010101010101010101010101010\n",
    "    y = 0b01010101010101010101010101010101\n",
    "    z = 0b11110000111100001111000011110000\n",
    "\n",
    "    print(\"\\nch(x, y, z):\", bin(ch(x, y, z)))\n",
    "    print(\"maj(x, y, z):\", bin(maj(x, y, z)))\n"
   ]
  },
  {
   "cell_type": "markdown",
   "metadata": {},
   "source": [
    "## Task 2"
   ]
  },
  {
   "cell_type": "markdown",
   "metadata": {},
   "source": [
    "### Research on Task 2"
   ]
  },
  {
   "cell_type": "markdown",
   "metadata": {},
   "source": [
    "#### Hashing  \n",
    "\n",
    "Hashing is a technique used to store and retrieve data efficinetly in computer systems. it mapps data of arbitray size to a fixed-size value, called a hash code or hash value. \n",
    "\n",
    "#### Hash Functions \n",
    "\n",
    "Hash function is  a mathematical function that takes in an input or key and produces a hash value. Primary goal of hash function is to ensure two diffrent inputs rarley produce the same hash value [Hash Functions](https://www.codingdrills.com/tutorial/introduction-to-searching-algorithms/hash-functions \"CodingDrills: Hash Functions\")\n"
   ]
  },
  {
   "cell_type": "markdown",
   "metadata": {},
   "source": [
    " #### Conversion of C to Python\n",
    "\n",
    " To make the conversion of C Python we need to undertand the use of pointers, unsigned integers, and loops. [Migrating from C# to Python](https://almarefa.net/blog/tutorial-migrating-from-c-to-python \"Almarefa: Migrating from C# to Python\")\n",
    "\n",
    "\n",
    " 1. Pointers:\n",
    "\n",
    " - C: Uses pointers (char *s) to access memory directly.\n",
    " \n",
    " - Pyhton: No pointers, strings are iterable \n",
    "\n",
    " 2. Unsigned Integers:\n",
    "\n",
    " - C: Unsigned intergers can overflow.\n",
    "\n",
    " - Python: Intergers do not overflow. they expand automatically.\n",
    "\n",
    " 3. Loops:\n",
    "\n",
    " - C: Traditional for loops with initailization, condition, and increment.\n",
    "\n",
    " - Phyton: Simple for-in loops using range()\n",
    "\n",
    "\n"
   ]
  },
  {
   "cell_type": "markdown",
   "metadata": {},
   "source": [
    "### Task 2 code"
   ]
  },
  {
   "cell_type": "markdown",
   "metadata": {},
   "source": [
    "##### The orignally c hash function code "
   ]
  },
  {
   "cell_type": "markdown",
   "metadata": {},
   "source": [
    "```c\n",
    "unsigned hash(char *s) {\n",
    "    unsigned hashval;\n",
    "    for (hashval = 0; *s != '\\0'; s++)\n",
    "        hashval = *s + 31 * hashval;\n",
    "    return hashval % 101;\n",
    "}\n"
   ]
  },
  {
   "cell_type": "markdown",
   "metadata": {},
   "source": [
    "##### converted c into python "
   ]
  },
  {
   "cell_type": "code",
   "execution_count": 22,
   "metadata": {},
   "outputs": [
    {
     "name": "stdout",
     "output_type": "stream",
     "text": [
      "17\n",
      "34\n",
      "Consistency test passed\n",
      "Case sensitivity test passed\n",
      "Empty string test passed\n"
     ]
    }
   ],
   "source": [
    "def hash_function(s):\n",
    "    \"\"\"Gets a simple hash value for a given string using base 31 and modulus 101.\"\"\"\n",
    "    hashval = 0\n",
    "    for char in s:\n",
    "        hashval = ord(char) + 31 * hashval  # Convert char to ASCII and apply the formula\n",
    "    return hashval % 101  # Keep hash value within range\n",
    "\n",
    "# Example test\n",
    "print(hash_function(\"hello\"))  # Test with a sample string\n",
    "print(hash_function(\"world\"))  # Another test case\n",
    "\n",
    "# Consistency Test\n",
    "assert hash_function(\"hello\") == hash_function(\"hello\"), \"Error: Hash values should be the same\"\n",
    "assert hash_function(\"world\") == hash_function(\"world\"), \"Error: Hash values should be the same\"\n",
    "print(\"Consistency test passed\")\n",
    "\n",
    "# Case Sensitivity Test\n",
    "assert hash_function(\"Hello\") != hash_function(\"hello\"), \"Error: Case sensitivity test failed\"\n",
    "print(\"Case sensitivity test passed\")\n",
    "\n",
    "# Empty String Test\n",
    "assert hash_function(\"\") == 0, \"Error: Empty string should hash to 0\"\n",
    "print(\"Empty string test passed\")\n"
   ]
  },
  {
   "cell_type": "markdown",
   "metadata": {},
   "source": [
    "- The Majority Function (maj)\n",
    "This function determines the majority value for each bit across three numbers:\n",
    "\n",
    "- A bit is set to 1 if at least two out of the three inputs have 1.\n",
    "- Example: x = 1011, y = 1101, z = 1001\n",
    "The output is calculated using majority logic for each bit. [Majority Function](https://en.wikipedia.org/wiki/Majority_function \"Wikipedia: Majority Function\")"
   ]
  },
  {
   "cell_type": "code",
   "execution_count": null,
   "metadata": {},
   "outputs": [],
   "source": []
  },
  {
   "cell_type": "markdown",
   "metadata": {},
   "source": [
    "- Understanding the hash function. The hash function processes each character in the input string and computes a numerical hash value. After iterating through all characters in the string, the final hash value is computed using: hashval mod 101\n",
    "\n",
    "- Why Use 31 and 101?\n",
    "\n",
    "1. Base 31:\n",
    "\n",
    "    - 31 is a prime number, which helps distribute hash values more evenly.\n",
    "\n",
    "    - It reduces hash collisions by ensuring different strings produce different hash values.\n",
    "    \n",
    "    - 31 is also efficient for multiplication, as compilers can optimize 31 * x into bit shifts. [31-bit bijective perfect hash algorithm](https://stackoverflow.com/questions/55957869/31-bit-bijective-perfect-hash-algorithm)\n",
    "\n",
    "\n",
    "2. Modulus 101:\n",
    "\n",
    "    - 101 is a prime number, which ensures better distribution of hash values.\n",
    "\n",
    "    - It prevents excessive clustering of hash values when used in hash tables.\n",
    "\n"
   ]
  },
  {
   "cell_type": "markdown",
   "metadata": {},
   "source": [
    "## Task 3"
   ]
  },
  {
   "cell_type": "markdown",
   "metadata": {},
   "source": [
    "### Research on Task 3"
   ]
  },
  {
   "cell_type": "markdown",
   "metadata": {},
   "source": [
    " #### SHA256 Padding Rules\n",
    "\n",
    " - Padding is a process used in SHA256 hashing algorithm to ensure that the lenght of the input message is a multiple of 512 bits. [How SHA-256 Works](https://medium.com/@bajrang1081siyag/how-sha-256-works-4951088ab9f8 \"Medium: How SHA-256 Works\")\n",
    "\n",
    "\n",
    " - Padding ensures that the input messages can be processed correctly without errors. it appends a 1 bit followed by zeros, and the lenght of the orginal message as a 64-bit bigendian integer."
   ]
  },
  {
   "cell_type": "markdown",
   "metadata": {},
   "source": [
    "#### Binary and Hexadecimal Data Conversions\n",
    "\n",
    "- Binary is a base-2 number system while hexadecimal is base-16 represents numbers using digits 0-9 and letters A-F. \n",
    "\n",
    "- Bianry is used for bitwise operations while hexadecimal is a more human readable representation of binary data[How to Convert Binary to Hexadecimal](https://www.geeksforgeeks.org/how-to-convert-binary-to-hexadecimal/ \"GeeksforGeeks: How to Convert Binary to Hexadecimal\")\n"
   ]
  },
  {
   "cell_type": "markdown",
   "metadata": {},
   "source": [
    "#### Bitwise Operations in Python\n",
    "\n",
    "- Bitwise operations manipulate individual bits while numbers using operators like AND (&), OR (|), XOR (^), and shifts (<<, >>).\n",
    "\n",
    "- In SHA256, bitwise shifts and logical operations are frequently used to mix and scramble input data efficiently during the hashing process.[Python Bitwise Operators](https://www.w3schools.com/python/gloss_python_bitwise_operators.asp \"W3Schools: Python Bitwise Operators\")\n"
   ]
  },
  {
   "cell_type": "markdown",
   "metadata": {},
   "source": [
    "### Task 3 code"
   ]
  },
  {
   "cell_type": "code",
   "execution_count": 23,
   "metadata": {},
   "outputs": [
    {
     "name": "stdout",
     "output_type": "stream",
     "text": [
      "File 'test.txt' created with content: 'abc'\n",
      "\n",
      " SHA-256 Padding:\n",
      "80 00 00 00 00 00 00 00 00 00 00 00 00 00 00 00 00 00 00 00 00 00 00 00 00 00 00 00 00 00 00 00 00 00 00 00 00 00 00 00 00 00 00 00 00 00 00 00 00 00 00 00 00 00 00 00 00 00 00 00 18\n"
     ]
    }
   ],
   "source": [
    "import os\n",
    "\n",
    "def create_test_file(file_path, content=\"abc\"):\n",
    "  \n",
    "    # Creates a test file with specified content.\n",
    "    \n",
    "    with open(file_path, \"w\") as f:\n",
    "        f.write(content)\n",
    "    print(f\"File '{file_path}' created with content: '{content}'\")\n",
    "\n",
    "def sha256_padding(file_path):\n",
    "   \n",
    "    #Computes and prints the SHA256 padding for a given file.\n",
    "\n",
    "    # Step 1: Read file contents as bytes\n",
    "    with open(file_path, 'rb') as f:\n",
    "        message = f.read()\n",
    "\n",
    "    # Step 2: Compute original message length in bits\n",
    "    message_length = len(message) * 8  # Convert bytes to bits\n",
    "\n",
    "    # Step 3: Initialize padding with '1' bit (0x80 in hex)\n",
    "    padding = bytearray([0x80])\n",
    "\n",
    "    # Step 4: Compute necessary padding length\n",
    "    # Ensure total length (message + padding) is 56 mod 64\n",
    "    pad_length = (56 - (len(message) + 1) % 64) % 64\n",
    "\n",
    "    # Step 5: Append zero bytes for padding\n",
    "    padding.extend(b'\\x00' * pad_length)\n",
    "\n",
    "    # Step 6: Append original message length as a 64-bit big-endian integer\n",
    "    padding.extend(message_length.to_bytes(8, 'big'))\n",
    "\n",
    "    # Step 7: Print padding in hexadecimal format\n",
    "    print(\"\\n SHA-256 Padding:\")\n",
    "    print(\" \".join(f\"{byte:02x}\" for byte in padding))\n",
    "\n",
    "# File path\n",
    "file_path = \"test.txt\"\n",
    "\n",
    "# Step 1: Create the file\n",
    "create_test_file(file_path, \"abc\")  # You can change the content\n",
    "\n",
    "# Step 2: Compute and print SHA-256 padding\n",
    "sha256_padding(file_path)\n"
   ]
  },
  {
   "cell_type": "markdown",
   "metadata": {},
   "source": [
    "1. File Creation\n",
    "- create_test_file(file_path, content)\n",
    "- This function creates a file and writes the specified content into it.\n",
    "\n",
    "2. Reading the File & Computing Padding\n",
    "- The file is read in binary mode (rb).\n",
    "- The original message length is converted to bits.\n",
    "- The script follows the SHA-256 padding rules:\n",
    "Adds 0x80 (1-bit padding)\n",
    "- Appends 0x00 bytes until the message is 56 mod 64\n",
    "- Appends the message length as an 8-byte big-endian integer\n",
    "\n",
    "3. Printing the Padding\n",
    "- The padding is printed in hexadecimal format for readability.\n"
   ]
  },
  {
   "cell_type": "code",
   "execution_count": 24,
   "metadata": {},
   "outputs": [
    {
     "name": "stdout",
     "output_type": "stream",
     "text": [
      "\n",
      " SHA-256 Padding:\n",
      "80 00 00 00 00 00 00 00 00 00 00 00 00 00 00 00 00 00 00 00 00 00 00 00 00 00 00 00 00 00 00 00 00 00 00 00 00 00 00 00 00 00 00 00 00 00 00 00 00 00 00 00 00 00 00 00 00 00 00 00 18\n",
      "\n",
      " SHA-256 Padding:\n",
      "80 00 00 00 00 00 00 00 00 00 00 00 00 00 00 00 00 00 00 00 00 00 00 00 00 00 00 00 00 00 00 00 00 00 00 00 00 00 00 00 00 00 00 00 00 00 00 00 00 00 00 00 00 00 00 00 00 00 00 00 18\n",
      "Consistency test passed\n",
      "\n",
      " SHA-256 Padding:\n",
      "80 00 00 00 00 00 00 00 00 00 00 00 00 00 00 00 00 00 00 00 00 00 00 00 00 00 00 00 00 00 00 00 00 00 00 00 00 00 00 00 00 00 00 00 00 00 00 00 00 00 00 00 00 00 00 00 00 00 28\n"
     ]
    }
   ],
   "source": [
    "# Testing the functions\n",
    "\n",
    "# Consistency test\n",
    "padding1 = sha256_padding(\"test.txt\")\n",
    "padding2 = sha256_padding(\"test.txt\")\n",
    "assert padding1 == padding2, \"Error: Padding output is inconsistent!\"\n",
    "print(\"Consistency test passed\")\n",
    "\n",
    "# Short Message Test (Less than 56 Bytes)\n",
    "with open(\"short.txt\", \"w\") as f:\n",
    "    f.write(\"hello\")  # 5 bytes (40 bits)\n",
    "\n",
    "sha256_padding(\"short.txt\")\n",
    "\n",
    "\n",
    "# Expected Behavior:\n",
    "\n",
    "# Message length: 40 bits (0x28 in hex).\n",
    "# Padding should align to 56 bytes mod 64.\n",
    "\n"
   ]
  },
  {
   "cell_type": "markdown",
   "metadata": {},
   "source": [
    "## Task 4"
   ]
  },
  {
   "cell_type": "markdown",
   "metadata": {},
   "source": [
    "### Research on Task 4"
   ]
  },
  {
   "cell_type": "markdown",
   "metadata": {},
   "source": [
    "#### What Are Prime Numbers?\n",
    "\n",
    "- A prime number is a number greater than 1 that has no divisors other than 1 and itself (eg. 2, 3, 5, 7, 11...) [Prime Numbers](https://www.geeksforgeeks.org/prime-numbers/ \"GeeksforGeeks: Prime Numbers\")\n"
   ]
  },
  {
   "cell_type": "markdown",
   "metadata": {},
   "source": [
    "#### Two Common Algorithms to Find Prime Numbers\n",
    "\n",
    " 1. Sieve of Eratosthenes:\n",
    "  \n",
    "  - Start with a list of numbers up to the desired limit. Eliminate multiples of each prime, starting from 2, and the remaining numbers are primes.\n",
    "\n",
    "  -  eliminates non-primes using a systematic approach. [Sieve of Eratosthenes](https://www.geeksforgeeks.org/sieve-of-eratosthenes/ \"GeeksforGeeks: Sieve of Eratosthenes\")\n",
    "\n",
    "  \n",
    " 2. Trial Division:\n",
    "\n",
    " -  For each number, check if it is divisible by any number less than or equal to its square root. If no divisors are found, it is prime.\n",
    "\n",
    " - If a number n is divisible by any number then it’s not a prime number.[Trial Division Algorithm for Prime Factorization](https://www.geeksforgeeks.org/trial-division-algorithm-for-prime-factorization/ \"GeeksforGeeks: Trial Division Algorithm for Prime Factorization\")\n"
   ]
  },
  {
   "cell_type": "markdown",
   "metadata": {},
   "source": [
    "### Task 4 code"
   ]
  },
  {
   "cell_type": "code",
   "execution_count": 25,
   "metadata": {},
   "outputs": [],
   "source": [
    "def sieve_of_eratosthenes(n):\n",
    "    \n",
    "    # Finds the first n prime numbers using the Sieve of Eratosthenes algorithm.\n",
    "    \n",
    "    # n (int): The number of prime numbers to find.\n",
    "    \n",
    "    # Returns: A list of the first n prime numbers.\n",
    "    \n",
    "    limit = 1000  # Set a high enough limit to find the first 100 primes\n",
    "    primes = []\n",
    "    sieve = [True] * (limit + 1)  # Assume all numbers are prime initially\n",
    "    \n",
    "    sieve[0] = sieve[1] = False  # 0 and 1 are not prime\n",
    "    \n",
    "    for num in range(2, limit + 1):\n",
    "        if sieve[num]:  # If the number is still marked as prime\n",
    "            primes.append(num)\n",
    "            if len(primes) == n:\n",
    "                return primes\n",
    "            # Mark multiples of the current prime as non-prime\n",
    "            for multiple in range(num * num, limit + 1, num):\n",
    "                sieve[multiple] = False\n",
    "\n",
    "    return primes  # Just in case the limit was too low"
   ]
  },
  {
   "cell_type": "markdown",
   "metadata": {},
   "source": [
    "Sieve of Eratosthenes:\n",
    "\n",
    "- Create a boolean list (sieve), marking numbers as prime.\n",
    "\n",
    "- Iterate through numbers from 2 to limit:\n",
    "If a number is prime, add it to the list.\n",
    "Mark all multiples as non-prime.\n",
    "\n",
    "- Repeat until 100 primes are found."
   ]
  },
  {
   "cell_type": "code",
   "execution_count": 26,
   "metadata": {},
   "outputs": [],
   "source": [
    "import math\n",
    "\n",
    "def trial_division(n):\n",
    "    \n",
    "    #Finds the first n prime numbers using the Trial Division algorithm.\n",
    "    \n",
    "    # n (int): The number of prime numbers to find.\n",
    "    \n",
    "    #Returns: A list of the first n prime numbers.\n",
    "   \n",
    "    primes = []\n",
    "    num = 2  # Start checking from 2\n",
    "\n",
    "    while len(primes) < n:\n",
    "        is_prime = True\n",
    "        # Check divisibility by all previous primes up to sqrt(num)\n",
    "        for prime in primes:\n",
    "            if prime > math.isqrt(num):  # Stop checking if prime > sqrt(num)\n",
    "                break\n",
    "            if num % prime == 0:\n",
    "                is_prime = False\n",
    "                break\n",
    "        if is_prime:\n",
    "            primes.append(num)\n",
    "        num += 1  # Move to the next number\n",
    "\n",
    "    return primes\n",
    "\n"
   ]
  },
  {
   "cell_type": "markdown",
   "metadata": {},
   "source": [
    "Trial Division\n",
    "\n",
    "- Start from 2 and check each number.\n",
    "\n",
    "- If the number is not divisible by any previous prime (up to sqrt(n)), it is prime.\n",
    "\n",
    "- Continue until 100 primes are found."
   ]
  },
  {
   "cell_type": "code",
   "execution_count": 27,
   "metadata": {},
   "outputs": [
    {
     "name": "stdout",
     "output_type": "stream",
     "text": [
      "First 100 primes (Sieve of Eratosthenes):\n",
      "[2, 3, 5, 7, 11, 13, 17, 19, 23, 29, 31, 37, 41, 43, 47, 53, 59, 61, 67, 71, 73, 79, 83, 89, 97, 101, 103, 107, 109, 113, 127, 131, 137, 139, 149, 151, 157, 163, 167, 173, 179, 181, 191, 193, 197, 199, 211, 223, 227, 229, 233, 239, 241, 251, 257, 263, 269, 271, 277, 281, 283, 293, 307, 311, 313, 317, 331, 337, 347, 349, 353, 359, 367, 373, 379, 383, 389, 397, 401, 409, 419, 421, 431, 433, 439, 443, 449, 457, 461, 463, 467, 479, 487, 491, 499, 503, 509, 521, 523, 541]\n",
      "\n",
      "First 100 primes (Trial Division):\n",
      "[2, 3, 5, 7, 11, 13, 17, 19, 23, 29, 31, 37, 41, 43, 47, 53, 59, 61, 67, 71, 73, 79, 83, 89, 97, 101, 103, 107, 109, 113, 127, 131, 137, 139, 149, 151, 157, 163, 167, 173, 179, 181, 191, 193, 197, 199, 211, 223, 227, 229, 233, 239, 241, 251, 257, 263, 269, 271, 277, 281, 283, 293, 307, 311, 313, 317, 331, 337, 347, 349, 353, 359, 367, 373, 379, 383, 389, 397, 401, 409, 419, 421, 431, 433, 439, 443, 449, 457, 461, 463, 467, 479, 487, 491, 499, 503, 509, 521, 523, 541]\n"
     ]
    }
   ],
   "source": [
    "# Compute the first 100 prime numbers using both methods\n",
    "n = 100  # Find first 100 primes\n",
    "\n",
    "# Using Sieve of Eratosthenes\n",
    "primes_sieve = sieve_of_eratosthenes(n)\n",
    "print(\"First 100 primes (Sieve of Eratosthenes):\")\n",
    "print(primes_sieve)\n",
    "\n",
    "# Using Trial Division\n",
    "primes_trial = trial_division(n)\n",
    "print(\"\\nFirst 100 primes (Trial Division):\")\n",
    "print(primes_trial)"
   ]
  },
  {
   "cell_type": "markdown",
   "metadata": {},
   "source": [
    "## Task 5"
   ]
  },
  {
   "cell_type": "markdown",
   "metadata": {},
   "source": [
    "### Research on Task 5"
   ]
  },
  {
   "cell_type": "markdown",
   "metadata": {},
   "source": [
    "####  Fractional Part of a Square Root\n",
    "\n",
    "- When you take the square root of a number, it has two parts the whole number part before the decimal and the fractional part after the decimal.\n",
    "\n",
    "- The square root of 2 is approximately 1.414213....\n",
    "- The whole number part is 1.\n",
    "- The fractional part is 0.414213. [Calculate Fractional Part of Square Root Without Taking Square Root](https://math.stackexchange.com/questions/1277652/calculate-fractional-part-of-square-root-without-taking-square-root \"Math Stack Exchange: Calculate Fractional Part of Square Root Without Taking Square Root\")\n",
    "\n",
    "\n",
    "\n"
   ]
  },
  {
   "cell_type": "markdown",
   "metadata": {},
   "source": [
    "### Task 5 code"
   ]
  },
  {
   "cell_type": "code",
   "execution_count": 28,
   "metadata": {},
   "outputs": [],
   "source": [
    "def sieve_of_eratosthenes(n):\n",
    "    \n",
    "    # Finds the first n prime numbers using the Sieve of Eratosthenes algorithm.\n",
    "    \n",
    "    # n (int): The number of prime numbers to find.\n",
    "    \n",
    "    # Returns: A list of the first n prime numbers.\n",
    "    \n",
    "    limit = 1000  # Set a high enough limit to find the first 100 primes\n",
    "    primes = []\n",
    "    sieve = [True] * (limit + 1)  # Assume all numbers are prime initially\n",
    "    \n",
    "    sieve[0] = sieve[1] = False  # 0 and 1 are not prime\n",
    "    \n",
    "    for num in range(2, limit + 1):\n",
    "        if sieve[num]:  # If the number is still marked as prime\n",
    "            primes.append(num)\n",
    "            if len(primes) == n:\n",
    "                return primes\n",
    "            # Mark multiples of the current prime as non-prime\n",
    "            for multiple in range(num * num, limit + 1, num):\n",
    "                sieve[multiple] = False\n",
    "\n",
    "    return primes  # Just in case the limit was too low"
   ]
  },
  {
   "cell_type": "markdown",
   "metadata": {},
   "source": [
    "Sieve of Eratosthenes:\n",
    "\n",
    "- Create a boolean list (sieve), marking numbers as prime.\n",
    "\n",
    "- Iterate through numbers from 2 to limit:\n",
    "If a number is prime, add it to the list.\n",
    "Mark all multiples as non-prime.\n",
    "\n",
    "- Repeat until 100 primes are found."
   ]
  },
  {
   "cell_type": "code",
   "execution_count": 29,
   "metadata": {},
   "outputs": [],
   "source": [
    "import math\n",
    "\n",
    "def fractional_part_32_bits(value):\n",
    "   \n",
    "    # The first 32 bits of the fractional part of a given number.\n",
    "    \n",
    "    # value (float): The input number.\n",
    "    \n",
    "    # Returns: The first 32 bits of the fractional part.\n",
    "    \n",
    "    fractional_part = value - math.floor(value)  # Get the fractional part\n",
    "    return int(fractional_part * (2 ** 32))  # Convert to 32-bit representation\n",
    "\n"
   ]
  },
  {
   "cell_type": "markdown",
   "metadata": {},
   "source": [
    "- Extracting the first 32 bits of the fractional part.\n",
    "This function extracts the fractional part of a number and converts it to a 32-bit binary representation.\n",
    "\n",
    "- Compute the fractional part of a number.\n",
    "\n",
    "- Multiply it by `2^32` to shift it.\n",
    "\n",
    "- Convert it to a binary integer."
   ]
  },
  {
   "cell_type": "code",
   "execution_count": 30,
   "metadata": {},
   "outputs": [],
   "source": [
    "def compute_root_fractions(n):\n",
    "   \n",
    "    # Computes the first 32 bits of the fractional part of square roots of the first n prime numbers.\n",
    "     \n",
    "    # n (int): The number of prime numbers to compute.\n",
    "    \n",
    "    # Returns: A list of tuples containing the prime and its corresponding 32-bit fraction.\n",
    "   \n",
    "    primes = sieve_of_eratosthenes(n)  # Get the first n primes\n",
    "    results = [(p, fractional_part_32_bits(math.sqrt(p))) for p in primes]\n",
    "    return results\n"
   ]
  },
  {
   "cell_type": "markdown",
   "metadata": {},
   "source": [
    "-  Computing the 32-bit fractional part of √Prime\n",
    "This method finds the first `n` primes and computes the 32-bit binary fraction of their square roots.\n",
    "\n",
    "\n",
    "- Get the first `n` primes using the *sieve of eratosthenes*.\n",
    "\n",
    "- Compute square roots of these primes.\n",
    "\n",
    "- Extract and store the 32-bit fractional part.\n"
   ]
  },
  {
   "cell_type": "code",
   "execution_count": 31,
   "metadata": {},
   "outputs": [
    {
     "name": "stdout",
     "output_type": "stream",
     "text": [
      "\n",
      "Prime Number  |  First 32 bits of √Prime Fraction\n",
      "--------------------------------------------------\n",
      "2             |  01101010000010011110011001100111\n",
      "3             |  10111011011001111010111010000101\n",
      "5             |  00111100011011101111001101110010\n",
      "7             |  10100101010011111111010100111010\n",
      "11            |  01010001000011100101001001111111\n",
      "13            |  10011011000001010110100010001100\n",
      "17            |  00011111100000111101100110101011\n",
      "19            |  01011011111000001100110100011001\n",
      "23            |  11001011101110111001110101011101\n",
      "29            |  01100010100110100010100100101010\n",
      "31            |  10010001010110010000000101011010\n",
      "37            |  00010101001011111110110011011000\n",
      "41            |  01100111001100110010011001100111\n",
      "43            |  10001110101101000100101010000111\n",
      "47            |  11011011000011000010111000001101\n",
      "53            |  01000111101101010100100000011101\n",
      "59            |  10101110010111111001000101010110\n",
      "61            |  11001111011011001000010111010011\n",
      "67            |  00101111011100110100011101111101\n",
      "71            |  01101101000110000010011011001010\n",
      "73            |  10001011010000111101010001010111\n",
      "79            |  11100011011000001011010110010110\n",
      "83            |  00011100010001010110000000000010\n",
      "89            |  01101111000110010110001100110001\n",
      "97            |  11011001010011101011111010110001\n",
      "101           |  00001100110001001010011000010001\n",
      "103           |  00100110000111011100000111110010\n",
      "107           |  01011000000101011010011110111110\n",
      "109           |  01110000101101111110110101100111\n",
      "113           |  10100001010100010011110001101001\n",
      "127           |  01000100111110010011011000110101\n",
      "131           |  01110010000011011100110111111101\n",
      "137           |  10110100011001110011011010011110\n",
      "139           |  11001010001100100000101101110101\n",
      "149           |  00110100111000001101010000101110\n",
      "151           |  01001001110001111101100110111101\n",
      "157           |  10000111101010111011100111110010\n",
      "163           |  11000100011000111010001011111100\n",
      "167           |  11101100001111111100001111110011\n",
      "173           |  00100111001001110111111101101101\n",
      "179           |  01100001000010111110101111110010\n",
      "181           |  01110100001000001011010010011110\n",
      "191           |  11010001111111011000101000110011\n",
      "193           |  11100100011101110011010110010100\n",
      "197           |  00001001001000011001011111110110\n",
      "199           |  00011011010100110000110010010101\n",
      "211           |  10000110100111010110001101000010\n",
      "223           |  11101110111001010010111001001111\n",
      "227           |  00010001000001110110011010001001\n",
      "229           |  00100001111110111010001101111011\n",
      "233           |  01000011101010111001111110110110\n",
      "239           |  01110101101010011111100100011101\n",
      "241           |  10000110001100000101000000011001\n",
      "251           |  11010111110011011000000101110011\n",
      "257           |  00000111111111100000000011111111\n",
      "263           |  00110111100111110101000100111111\n",
      "269           |  01100110101101100101000110101000\n",
      "271           |  01110110010010101011100001000010\n",
      "277           |  10100100101100000110101111100001\n",
      "281           |  11000011010101111000110000010101\n",
      "283           |  11010010100101100010101001010011\n",
      "293           |  00011110000000111001111101000000\n",
      "307           |  10000101011110110111101111101110\n",
      "311           |  10100010100110111111001011011110\n",
      "313           |  10110001000110100011001011101000\n",
      "317           |  11001101111100110100111010000000\n",
      "331           |  00110001100000110000010000100110\n",
      "337           |  01011011100010010000100100101011\n",
      "347           |  10100000110000000110101000010011\n",
      "349           |  10101110011110011000010000101111\n",
      "353           |  11001001110011011010011010001001\n",
      "359           |  11110010100000011111001000111001\n",
      "367           |  00101000010000010010010110010010\n",
      "373           |  01010000001011100110010011011011\n",
      "379           |  01110111110010011100001000010001\n",
      "383           |  10010010000001001100110110011101\n",
      "389           |  10111001000110111111011001100011\n",
      "397           |  11101100110000111000110010011101\n",
      "401           |  00000110011001010110000010010101\n",
      "409           |  00111001010001111001001110000001\n",
      "419           |  01111000001100000111011010010111\n",
      "421           |  10000100101011100100101101111100\n",
      "431           |  11000010101100101011011101010101\n",
      "433           |  11001111000000111101001000001110\n",
      "439           |  11110011110010111011000100010111\n",
      "443           |  00001100001011010011101101001011\n",
      "449           |  00110000100010101111000101100001\n",
      "457           |  01100000101001111010100110011000\n",
      "461           |  01111000100011011001100000010010\n",
      "463           |  10000100011101101001101101000010\n",
      "467           |  10011100001101001111000001100010\n",
      "479           |  11100010110101010110010011000100\n",
      "487           |  00010001011011010111010111111101\n",
      "491           |  00101000100101001100000100000111\n",
      "499           |  01010110100110110101100011000110\n",
      "503           |  01101101011110110011100100111001\n",
      "509           |  10001111100111111000110110111011\n",
      "521           |  11010011010011110000001111001101\n",
      "523           |  11011110100000110111001011101111\n",
      "541           |  01000010011010000111101000111001\n"
     ]
    }
   ],
   "source": [
    "# Compute and display results for the first 100 primes\n",
    "n = 100\n",
    "root_fractions = compute_root_fractions(n)\n",
    "\n",
    "# Print results in a readable format\n",
    "print(\"\\nPrime Number  |  First 32 bits of √Prime Fraction\")\n",
    "print(\"-\" * 50)\n",
    "for prime, frac in root_fractions:\n",
    "    print(f\"{prime:<13} |  {frac:032b}\")  # Print in binary format"
   ]
  },
  {
   "cell_type": "code",
   "execution_count": 32,
   "metadata": {},
   "outputs": [
    {
     "name": "stdout",
     "output_type": "stream",
     "text": [
      "Sieve of Eratosthenes Test Passed!\n",
      "Fractional Part Extraction Test Passed!\n",
      "Square Root Fraction Computation Test Passed!\n"
     ]
    }
   ],
   "source": [
    "import math\n",
    "import time\n",
    "\n",
    "# Test 1: Sieve of Eratosthenes (Prime Number Generation) \n",
    "primes = sieve_of_eratosthenes(100)\n",
    "assert len(primes) == 100, \"Error: Did not return 100 primes!\"\n",
    "\n",
    "# Check first 10 primes\n",
    "expected_first_10 = [2, 3, 5, 7, 11, 13, 17, 19, 23, 29]\n",
    "assert primes[:10] == expected_first_10, \"Error: First 10 primes are incorrect!\"\n",
    "\n",
    "print(\"Sieve of Eratosthenes Test Passed!\")\n",
    "\n",
    "\n",
    "# Test 2: Extracting 32-bit Fractional Parts \n",
    "test_values = {\n",
    "    2: \"01101010000010011110011001100111\",\n",
    "    3: \"10111011011001111010111010000101\",\n",
    "    5: \"00111100011011101111001101110010\",\n",
    "    7: \"10100101010011111111010100111010\"\n",
    "}\n",
    "\n",
    "for prime, expected_bin in test_values.items():\n",
    "    computed_bin = f\"{fractional_part_32_bits(math.sqrt(prime)):032b}\"\n",
    "    assert computed_bin == expected_bin, f\"Error: Incorrect binary for √{prime}!\"\n",
    "\n",
    "print(\"Fractional Part Extraction Test Passed!\")\n",
    "\n",
    "\n",
    "# Test 3: Computing Square Roots of Primes \n",
    "test_results = compute_root_fractions(10)\n",
    "\n",
    "assert len(test_results) == 10, \"Error: Did not return 10 results!\"\n",
    "\n",
    "for prime, frac in test_results:\n",
    "    assert isinstance(prime, int), \"Error: Prime is not an integer!\"\n",
    "    assert isinstance(frac, int), \"Error: Fraction is not an integer!\"\n",
    "    assert 0 <= frac < (2**32), \"Error: Fractional part is out of range!\"\n",
    "\n",
    "print(\"Square Root Fraction Computation Test Passed!\")"
   ]
  },
  {
   "cell_type": "markdown",
   "metadata": {},
   "source": [
    "## Task 6"
   ]
  },
  {
   "cell_type": "markdown",
   "metadata": {},
   "source": [
    "### Research on Task 6"
   ]
  },
  {
   "cell_type": "markdown",
   "metadata": {},
   "source": [
    "#### How SHA256 Works and Generating Hashes in Python\n",
    "\n",
    "- SHA256 is a cryptographic hash function that takes an input (like a word) and returns a fixed 256-bit hash.\n",
    "\n",
    "- Using the hashlib libary we can easily generate SHA256 hashes.[Python hashlib Library](https://docs.python.org/3/library/hashlib.html \"Python Docs: hashlib Library\")\n"
   ]
  },
  {
   "cell_type": "markdown",
   "metadata": {},
   "source": [
    "#### Hexadecimal to Binary Conversion \n",
    "\n",
    "- SHA256 outputs in hexadecimal (base-16), but to count leading zeros, you need the binary representation (base-2).\n",
    "\n",
    "- Count leading zeros: Use string functions like binary_hash.startswith('0') and loops or len().[Program to Convert Hexadecimal Number to Binary](https://www.geeksforgeeks.org/program-to-convert-hexadecimal-number-to-binary/ \"GeeksforGeeks: Program to Convert Hexadecimal Number to Binary\")\n"
   ]
  },
  {
   "cell_type": "markdown",
   "metadata": {},
   "source": [
    "####  Iterating Through English Word Lists\n",
    "\n",
    "- Use an English dictionary dataset to search for valid words"
   ]
  },
  {
   "cell_type": "markdown",
   "metadata": {},
   "source": [
    "### Task 6 code"
   ]
  },
  {
   "cell_type": "code",
   "execution_count": 33,
   "metadata": {},
   "outputs": [],
   "source": [
    "import hashlib\n",
    "\n",
    "def sha256_leading_zeros(word):\n",
    "   \n",
    "    # Computes the SHA-256 hash of a word and returns the number of leading 0 bits.\n",
    "    \n",
    "    # word (str): The input word.\n",
    "    \n",
    "    # Returns: Number of leading 0 bits in the SHA-256 hash.\n",
    "    # Returns: The SHA-256 hash in hex format.\n",
    "     \n",
    "    hash_hex = hashlib.sha256(word.encode()).hexdigest()\n",
    "    hash_bin = bin(int(hash_hex, 16))[2:].zfill(256)  # Convert to binary\n",
    "    leading_zeros = len(hash_bin) - len(hash_bin.lstrip(\"0\"))  # Count leading 0s\n",
    "    return leading_zeros, hash_hex"
   ]
  },
  {
   "cell_type": "markdown",
   "metadata": {},
   "source": [
    "- SHA-256 Leading Zeros Function\n",
    "\n",
    "- Computes the SHA-256 hash of a given word.\n",
    "\n",
    "- Converts the hash from hexadecimal to binary format.\n",
    "\n",
    "- Ensures the binary representation is 256 bits long using `.zfill(256)`.\n",
    "\n",
    "- Counts the number of leading 0 bits in the binary hash using `.lstrip(\"0\")`.\n",
    "\n",
    "- Returns the count of leading zeros and the SHA-256 hash in hexadecimal format.\n"
   ]
  },
  {
   "cell_type": "code",
   "execution_count": 34,
   "metadata": {},
   "outputs": [],
   "source": [
    "def find_best_proof_of_work(word_list):\n",
    "    \n",
    "   # Finds the English word with the most leading 0 bits in its SHA-256 hash.\n",
    "    \n",
    "   # word_list (list): List of words to check.\n",
    "    \n",
    "   # Returns: (word, leading_zeros, hash)\n",
    "   \n",
    "    best_word = None\n",
    "    max_zeros = 0\n",
    "    best_hash = \"\"\n",
    "\n",
    "    for word in word_list:\n",
    "        zeros, hash_hex = sha256_leading_zeros(word)\n",
    "        if zeros > max_zeros:\n",
    "            best_word, max_zeros, best_hash = word, zeros, hash_hex\n",
    "\n",
    "    return best_word, max_zeros, best_hash\n"
   ]
  },
  {
   "cell_type": "markdown",
   "metadata": {},
   "source": [
    "- Find Best Proof of Work Function\n",
    "\n",
    "- Iterates through a list of words to find the one with the most leading 0 bits in its SHA-256 hash.\n",
    "\n",
    "- Calls `sha256_leading_zeros(word)` to compute the leading zero count and hash for each word.\n",
    "\n",
    "- Keeps track of the word with the highest number of leading 0 bits.\n",
    "\n",
    "- Updates the best word, its leading zero count, and its hash if a new maximum is found.\n",
    "\n",
    "- Returns the word with the most leading zeros, the count of leading zeros, and the corresponding SHA-256 hash."
   ]
  },
  {
   "cell_type": "code",
   "execution_count": 35,
   "metadata": {},
   "outputs": [
    {
     "name": "stderr",
     "output_type": "stream",
     "text": [
      "[nltk_data] Downloading package words to\n",
      "[nltk_data]     C:\\Users\\timmy\\AppData\\Roaming\\nltk_data...\n",
      "[nltk_data]   Package words is already up-to-date!\n"
     ]
    }
   ],
   "source": [
    "import nltk\n",
    "from nltk.corpus import words\n",
    "import requests\n",
    "\n",
    "# Ensure you have the word list (first-time setup)\n",
    "nltk.download(\"words\")\n",
    "\n",
    "def verify_word_in_dictionary(word):\n",
    "    \n",
    "    # Verifies if a given word exists in an English dictionary.\n",
    "    \n",
    "    # word (str): The word to verify.\n",
    "    \n",
    "    # Returns: True if the word exists in a dictionary, False otherwise.\n",
    "    \n",
    "    # Check if the word is in NLTK words\n",
    "    if word.lower() in words.words():\n",
    "        return True\n",
    "\n",
    "    # Online dictionary verification (fallback)\n",
    "    response = requests.get(\"https://api.dictionaryapi.dev/api/v2/entries/en/{word}\")\n",
    "    return response.status_code == 200  # If word is found, API returns 200\n",
    "\n",
    "\n"
   ]
  },
  {
   "cell_type": "markdown",
   "metadata": {},
   "source": [
    "- Uses the Natural Language Toolkit (NLTK) to check if a word exists in an English dictionary.\n",
    "\n",
    "- Converts the word to lowercase to ensure case-insensitive matching.\n",
    "\n",
    "- Checks if the word is in the NLTK words corpus.\n",
    "\n",
    "- If the word is not found, uses an online API request to dictionaryapi.dev as a fallback.\n",
    "\n",
    "- Returns True if the word exists in either NLTK or the online dictionary, otherwise returns False.\n",
    "\n"
   ]
  },
  {
   "cell_type": "code",
   "execution_count": 36,
   "metadata": {},
   "outputs": [
    {
     "name": "stdout",
     "output_type": "stream",
     "text": [
      "\n",
      " Best Proof of Work Word: {best_word}\n",
      " Leading 0 Bits: {max_zeros}\n",
      " SHA-256 Hash: {best_hash}\n",
      " Verified in Dictionary: {'Yes' if is_valid_word else 'No'}\n"
     ]
    }
   ],
   "source": [
    "# Load English words from NLTK dictionary\n",
    "word_list = words.words()\n",
    "\n",
    "# Find the word with the highest proof of work\n",
    "best_word, max_zeros, best_hash = find_best_proof_of_work(word_list)\n",
    "\n",
    "# Verify the word exists in a dictionary\n",
    "is_valid_word = verify_word_in_dictionary(best_word)\n",
    "\n",
    "# Print the results\n",
    "print(\"\\n Best Proof of Work Word: {best_word}\")\n",
    "print(\" Leading 0 Bits: {max_zeros}\")\n",
    "print(\" SHA-256 Hash: {best_hash}\")\n",
    "print(\" Verified in Dictionary: {'Yes' if is_valid_word else 'No'}\")\n",
    "\n"
   ]
  },
  {
   "cell_type": "code",
   "execution_count": 37,
   "metadata": {},
   "outputs": [
    {
     "name": "stdout",
     "output_type": "stream",
     "text": [
      "Testing verify_word_in_dictionary:\n",
      "True\n",
      "False\n",
      "True\n",
      "False\n",
      "\n"
     ]
    }
   ],
   "source": [
    "# Test cases for verify_word_in_dictionary function\n",
    "print(\"Testing verify_word_in_dictionary:\")\n",
    "print(verify_word_in_dictionary(\"apple\"))  # Expected: True\n",
    "print(verify_word_in_dictionary(\"qwertyuiop\"))  # Expected: False\n",
    "print(verify_word_in_dictionary(\"Hello\"))  # Expected: True (case-insensitive)\n",
    "print(verify_word_in_dictionary(\"abcdefgh\"))  # Expected: False\n",
    "print()"
   ]
  },
  {
   "cell_type": "markdown",
   "metadata": {},
   "source": [
    "## Task 7"
   ]
  },
  {
   "cell_type": "markdown",
   "metadata": {},
   "source": [
    "### Research on Task 7"
   ]
  },
  {
   "cell_type": "markdown",
   "metadata": {},
   "source": [
    "#### Understanding What a Turing Machine Is\n",
    "\n",
    "- A Turing machine is a mathematical model of computation consisting of tape, head, set of states\n",
    "\n",
    "- A tape: Divided into cells that hold symbols (like 0, 1, or a blank).\n",
    "\n",
    "- A head: Reads and writes symbols on the tape and can move left or right.\n",
    "\n",
    "- A set of states: The machine transitions between states based on the current symbol under the head. [What's a Turing Machine and Why Does It Matter?](https://medium.com/background-thread/whats-a-turing-machine-and-why-does-it-matter-1cd1b4606c6a \"Medium: What's a Turing Machine and Why Does It Matter?\")\n"
   ]
  },
  {
   "cell_type": "markdown",
   "metadata": {},
   "source": [
    "#### Understanding Binary Addition\n",
    "\n",
    "- Adding 1 to a binary number follows similar rules to decimal addition:\n",
    "- Start at the least significant bit (right-most bit).\n",
    "- If the bit is 0, change it to 1 and stop.\n",
    "- If the bit is 1, change it to 0 and carry 1 to the next bit. [Binary Addition](https://byjus.com/maths/binary-addition/ \"BYJU'S: Binary Addition\")\n",
    "\n"
   ]
  },
  {
   "cell_type": "markdown",
   "metadata": {},
   "source": [
    "### Task 7 code"
   ]
  },
  {
   "cell_type": "markdown",
   "metadata": {},
   "source": [
    "## Task 8"
   ]
  },
  {
   "cell_type": "markdown",
   "metadata": {},
   "source": [
    "### Research on Task 8"
   ]
  },
  {
   "cell_type": "markdown",
   "metadata": {},
   "source": [
    " #### Bubble Sort Algorithm\n",
    "\n",
    " - Bubble sort is a comparison-based sorting algorithm that repeatedly steps through the list, compares adjacent elements, and swaps them if they are in the wrong order. The pass continues until the list is sorted. [Bubble Sort Algorithm](https://www.geeksforgeeks.org/bubble-sort-algorithm/ \"GeeksforGeeks: Bubble Sort Algorithm\")\n"
   ]
  },
  {
   "cell_type": "markdown",
   "metadata": {},
   "source": [
    "#### Counting Comparisons\n",
    "\n",
    "- A comparison occurs when two adjacent elements are evaluated to see if they need to be swapped.\n",
    "\n",
    "- Example:\n",
    "For the list [5, 3], a comparison is made to check if 5 > 3.\n",
    "\n",
    "- Introduce a counter variable that increments each time a comparison is made. [Counting Sort](https://www.geeksforgeeks.org/counting-sort/ \"GeeksforGeeks: Counting Sort\")\n"
   ]
  },
  {
   "cell_type": "markdown",
   "metadata": {},
   "source": [
    "#### Generating All Permutations\n",
    "\n",
    "- A permutation is a specific arrangement of a list’s elements. For a list of 5 elements, there are \n",
    "5\n",
    "!\n",
    "=\n",
    "120\n",
    "5!=120 permutations. [Permutation](https://www.geeksforgeeks.org/permutation/ \"GeeksforGeeks: Permutation\")\n"
   ]
  },
  {
   "cell_type": "markdown",
   "metadata": {},
   "source": [
    "### Task 8 code"
   ]
  }
 ],
 "metadata": {
  "kernelspec": {
   "display_name": "base",
   "language": "python",
   "name": "python3"
  },
  "language_info": {
   "codemirror_mode": {
    "name": "ipython",
    "version": 3
   },
   "file_extension": ".py",
   "mimetype": "text/x-python",
   "name": "python",
   "nbconvert_exporter": "python",
   "pygments_lexer": "ipython3",
   "version": "3.12.3"
  }
 },
 "nbformat": 4,
 "nbformat_minor": 2
}
