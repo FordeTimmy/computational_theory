{
 "cells": [
  {
   "cell_type": "markdown",
   "metadata": {},
   "source": [
    "## Task 1 "
   ]
  },
  {
   "cell_type": "markdown",
   "metadata": {},
   "source": [
    "### Research on Task 1"
   ]
  },
  {
   "cell_type": "markdown",
   "metadata": {},
   "source": [
    "#### Binary Representation \n",
    "Binary representation  is a way of representing numbers, text, or data using two digits 0 and 1. This system is used by computers because they operate using binary logic. [Binary Representations](https://www.geeksforgeeks.org/binary-representations-in-digital-logic/ \"GeeksforGeeks: Binary Representations\")\n",
    "\n",
    "\n",
    "In Binary:\n",
    " - Each digit is called a bit.\n",
    " - A group of 8 bits froms a byte.\n",
    " - Binary numbers represent values in base-2, as opposed to base-10 in decimal."
   ]
  },
  {
   "cell_type": "markdown",
   "metadata": {},
   "source": [
    "#### Bit Shifts \n",
    "A bit shift is an operation that moves bits to the left or right within a binary number. [Bit Shifts](https://www.geeksforgeeks.org/shift-micro-operations-in-computer-architecture/ \"GeeksforGeeks: Shift Micro-Operations\")\n",
    "\n",
    "\n",
    "There are two main types of bit shifts:\n",
    "1. Left Shift (<<): Moves the bit to the left and fills the rightmost bit with 0:\n",
    "\n",
    "- Example:\n",
    "0010 1101 shifted left by 1 position becomes 0101 1010\n",
    "\n",
    "2. Right Shift (>>): Moves the bit to the right and fills the leftmost bit depending on the shift type:\n",
    "\n",
    "- Logical right shift: Fills leftmost bit with 0.\n",
    "\n",
    "- Arithmetic right shift: Fills leftmost bit with the sign bit(used for signed numbers).\n",
    "\n",
    "- Example of arithmetic shift: 1011 1000 shifted right by 1 position with a sign extension becomes 1101 1100.\n",
    "\n",
    "- Effect: Dividing the number by 2 (for postive numbers).\n",
    "\n"
   ]
  },
  {
   "cell_type": "markdown",
   "metadata": {},
   "source": [
    "#### Circular Shifts (Rotations)\n",
    "\n",
    "A circular shift (also called rotation) is simialr to bit shift, but instead of discarding bits that are shifted off, they are wrapped around and reinserted. [Circular Shifts](https://www.geeksforgeeks.org/shift-micro-operations-in-computer-architecture/ \"GeeksforGeeks: Shift Micro-Operations\")\n",
    "\n",
    "1. Circular Left Shift: The leftmost bit is shifted out and moved to the leftmost position.\n",
    "\n",
    "- Example: 1011 1000 shifted left by 1 becomes 0111 0001\n",
    "\n",
    "2. Circular Right Shift: The rightmost bit is shifted out and moved to the leftmost position.\n",
    "\n",
    "- Example: 1011 1000 shifted right by 1 becomes 0101 1100."
   ]
  },
  {
   "cell_type": "markdown",
   "metadata": {},
   "source": [
    "### Task 1 code"
   ]
  },
  {
   "cell_type": "code",
   "execution_count": 7,
   "metadata": {},
   "outputs": [
    {
     "name": "stdout",
     "output_type": "stream",
     "text": [
      "Original: 0b1101 (13)\n",
      "Rotated Left: 0b11010 (26)\n"
     ]
    }
   ],
   "source": [
    "def rotl(x, n=1):\n",
    "    \"\"\"Rotate the bits of a 32-bit unsigned integer to the left by n places.\"\"\"\n",
    "    return ((x << n) | (x >> (32 - n))) & 0xFFFFFFFF  # Keep within 32 bits using a bitmask\n",
    "\n",
    "# Example test\n",
    "x = 0b1101  # Binary 1101 (Decimal 13)\n",
    "rotated_left = rotl(x, 1)  # Rotate left by 1 bit\n",
    "\n",
    "print(f\"Original: {bin(x)} ({x})\")\n",
    "print(f\"Rotated Left: {bin(rotated_left)} ({rotated_left})\")\n"
   ]
  },
  {
   "cell_type": "markdown",
   "metadata": {},
   "source": [
    "\n",
    "- Bitwise Left Rotation (rotl)\n",
    "This function rotates the bits of a 32-bit integer left by n positions.\n",
    "\n",
    "- x << n shifts bits to the left.\n",
    "x >> (32 - n) moves the overflowing bits to the right.\n",
    "& 0xFFFFFFFF ensures we stay within 32 bits.\n",
    "\n",
    "- Example: 0b1101 (13 in decimal) rotated left by 1 bit becomes 0b1010 (26 in decimal)."
   ]
  },
  {
   "cell_type": "code",
   "execution_count": 8,
   "metadata": {},
   "outputs": [
    {
     "name": "stdout",
     "output_type": "stream",
     "text": [
      "Original: 0b1101 (13)\n",
      "Rotated Right: 0b10000000000000000000000000000110 (2147483654)\n"
     ]
    }
   ],
   "source": [
    "def rotr(x, n=1):\n",
    "    \"\"\"Rotate the bits in a 32-bit unsigned integer to the right by n places.\"\"\"\n",
    "    n = n % 32  # Ensure n stays within a valid range (0-31)\n",
    "    return ((x >> n) | ((x << (32 - n)) & 0xFFFFFFFF))  # Keep within 32 bits\n",
    "\n",
    "# Example test\n",
    "x = 0b1101  # Binary 1101 (Decimal 13)\n",
    "rotated_right = rotr(x, 1)  # Rotate right by 1 bit\n",
    "\n",
    "print(f\"Original: {bin(x)} ({x})\")\n",
    "print(f\"Rotated Right: {bin(rotated_right)} ({rotated_right})\")\n"
   ]
  },
  {
   "cell_type": "markdown",
   "metadata": {},
   "source": [
    "- Bitwise Right Rotation (rotr) This function rotates the bits of a 32-bit unsigned integer to the right by n positions.\n",
    "\n",
    "- x >> n shifts bits to the right.\n",
    "x << (32 - n) moves the lost rightmost bits to the leftmost positions.\n",
    "& 0xFFFFFFFF ensures we stay within 32 bits.\n",
    "- Example: 0b1101 (13 in decimal) rotated right by 1 bit becomes 0b1011 (11 in decimal)\n",
    "- This function assumes 32 bits, making it inaccurate for smaller numbers:\n",
    "\n",
    "- Extra bits introduced: Left shift (x << (32 - n)) moves bits too far.\n",
    "- Incorrect results: A 4-bit number is treated as 32-bit, corrupting the rotation."
   ]
  },
  {
   "cell_type": "code",
   "execution_count": null,
   "metadata": {},
   "outputs": [
    {
     "name": "stdout",
     "output_type": "stream",
     "text": [
      "Bit Width: 4\n",
      "x:      0b1010 (10)\n",
      "y:      0b1100 (12)\n",
      "z:      0b110 (6)\n",
      "not_x:  0b101 (corrected negation)\n",
      "Result: 0b1100 (12)\n",
      "\n",
      "Choose Function Output: 0b1100 (12)\n"
     ]
    }
   ],
   "source": [
    "def ch(x, y, z):\n",
    "    \"\"\"Choose bits from y where x has 1s, and from z where x has 0s (Auto Bit-Width).\"\"\"\n",
    "    bit_width = max(x.bit_length(), y.bit_length(), z.bit_length())  # Auto-detect bit width\n",
    "\n",
    "    not_x = x ^ ((1 << bit_width) - 1)  # Flip bits correctly within bit width\n",
    "\n",
    "    result = (x & y) | (not_x & z)\n",
    "\n",
    "    # Debugging Outputs\n",
    "    print(f\"Bit Width: {bit_width}\")\n",
    "    print(f\"x:      {bin(x)} ({x})\")\n",
    "    print(f\"y:      {bin(y)} ({y})\")\n",
    "    print(f\"z:      {bin(z)} ({z})\")\n",
    "    print(f\"not_x:  {bin(not_x)} (corrected negation)\")\n",
    "    print(f\"Result: {bin(result)} ({result})\\n\")\n",
    "\n",
    "    return result\n",
    "\n",
    "# Example test\n",
    "x = 0b1010  # Binary 1010 (Decimal 10)\n",
    "y = 0b1100  # Binary 1100 (Decimal 12)\n",
    "z = 0b0110  # Binary 0110 (Decimal 6)\n",
    "\n",
    "result = ch(x, y, z)\n",
    "print(f\"Choose Function Output: {bin(result)} ({result})\")\n"
   ]
  },
  {
   "cell_type": "markdown",
   "metadata": {},
   "source": [
    "- The \"Choose\" Function (ch)\n",
    "This function selects bits based on x:\n",
    "\n",
    "- If a bit in x is 1, the corresponding bit from y is chosen.\n",
    "If a bit in x is 0, the corresponding bit from z is chosen.\n",
    "Example:\n",
    "\n",
    "- x = 1010, y = 1100, z = 0110\n",
    "The output is y where x is 1 and z where x is 0."
   ]
  },
  {
   "cell_type": "markdown",
   "metadata": {},
   "source": [
    "## Task 2"
   ]
  },
  {
   "cell_type": "markdown",
   "metadata": {},
   "source": [
    "### Research on Task 2"
   ]
  },
  {
   "cell_type": "markdown",
   "metadata": {},
   "source": [
    "#### Hashing  \n",
    "\n",
    "Hashing is a technique used to store and retrieve data efficinetly in computer systems. it mapps data of arbitray size to a fixed-size value, called a hash code or hash value. \n",
    "\n",
    "#### Hash Functions \n",
    "\n",
    "Hash function is  a mathematical function that takes in an input or key and produces a hash value. Primary goal of hash function is to ensure two diffrent inputs rarley produce the same hash value [Hash Functions](https://www.codingdrills.com/tutorial/introduction-to-searching-algorithms/hash-functions \"CodingDrills: Hash Functions\")\n"
   ]
  },
  {
   "cell_type": "markdown",
   "metadata": {},
   "source": [
    " #### Conversion of C to Python\n",
    "\n",
    " To make the conversion of C Python we need to undertand the use of pointers, unsigned integers, and loops. [Migrating from C# to Python](https://almarefa.net/blog/tutorial-migrating-from-c-to-python \"Almarefa: Migrating from C# to Python\")\n",
    "\n",
    "\n",
    " 1. Pointers:\n",
    "\n",
    " - C: Uses pointers (char *s) to access memory directly.\n",
    " \n",
    " - Pyhton: No pointers, strings are iterable \n",
    "\n",
    " 2. Unsigned Integers:\n",
    "\n",
    " - C: Unsigned intergers can overflow.\n",
    "\n",
    " - Python: Intergers do not overflow. they expand automatically.\n",
    "\n",
    " 3. Loops:\n",
    "\n",
    " - C: Traditional for loops with initailization, condition, and increment.\n",
    "\n",
    " - Phyton: Simple for-in loops using range()\n",
    "\n",
    "\n"
   ]
  },
  {
   "cell_type": "markdown",
   "metadata": {},
   "source": [
    "### Task 2 code"
   ]
  },
  {
   "cell_type": "markdown",
   "metadata": {},
   "source": [
    "Why are 31 and 101 used?"
   ]
  },
  {
   "cell_type": "markdown",
   "metadata": {},
   "source": [
    "## Task 3"
   ]
  },
  {
   "cell_type": "markdown",
   "metadata": {},
   "source": [
    "### Research on Task 3"
   ]
  },
  {
   "cell_type": "markdown",
   "metadata": {},
   "source": [
    " #### SHA256 Padding Rules\n",
    "\n",
    " - Padding is a process used in SHA256 hashing algorithm to ensure that the lenght of the input message is a multiple of 512 bits. [How SHA-256 Works](https://medium.com/@bajrang1081siyag/how-sha-256-works-4951088ab9f8 \"Medium: How SHA-256 Works\")\n",
    "\n",
    "\n",
    " - Padding ensures that the input messages can be processed correctly without errors. it appends a 1 bit followed by zeros, and the lenght of the orginal message as a 64-bit bigendian integer."
   ]
  },
  {
   "cell_type": "markdown",
   "metadata": {},
   "source": [
    "#### Binary and Hexadecimal Data Conversions\n",
    "\n",
    "- Binary is a base-2 number system while hexadecimal is base-16 represents numbers using digits 0-9 and letters A-F. \n",
    "\n",
    "- Bianry is used for bitwise operations while hexadecimal is a more human readable representation of binary data[How to Convert Binary to Hexadecimal](https://www.geeksforgeeks.org/how-to-convert-binary-to-hexadecimal/ \"GeeksforGeeks: How to Convert Binary to Hexadecimal\")\n"
   ]
  },
  {
   "cell_type": "markdown",
   "metadata": {},
   "source": [
    "#### Bitwise Operations in Python\n",
    "\n",
    "- Bitwise operations manipulate individual bits while numbers using operators like AND (&), OR (|), XOR (^), and shifts (<<, >>).\n",
    "\n",
    "- In SHA256, bitwise shifts and logical operations are frequently used to mix and scramble input data efficiently during the hashing process.[Python Bitwise Operators](https://www.w3schools.com/python/gloss_python_bitwise_operators.asp \"W3Schools: Python Bitwise Operators\")\n"
   ]
  },
  {
   "cell_type": "markdown",
   "metadata": {},
   "source": [
    "### Task 3 code"
   ]
  },
  {
   "cell_type": "markdown",
   "metadata": {},
   "source": [
    "## Task 4"
   ]
  },
  {
   "cell_type": "markdown",
   "metadata": {},
   "source": [
    "### Research on Task 4"
   ]
  },
  {
   "cell_type": "markdown",
   "metadata": {},
   "source": [
    "#### What Are Prime Numbers?\n",
    "\n",
    "- A prime number is a number greater than 1 that has no divisors other than 1 and itself (eg. 2, 3, 5, 7, 11...) [Prime Numbers](https://www.geeksforgeeks.org/prime-numbers/ \"GeeksforGeeks: Prime Numbers\")\n"
   ]
  },
  {
   "cell_type": "markdown",
   "metadata": {},
   "source": [
    "#### Two Common Algorithms to Find Prime Numbers\n",
    "\n",
    " 1. Sieve of Eratosthenes:\n",
    "  \n",
    "  - Start with a list of numbers up to the desired limit. Eliminate multiples of each prime, starting from 2, and the remaining numbers are primes.\n",
    "\n",
    "  -  eliminates non-primes using a systematic approach. [Sieve of Eratosthenes](https://www.geeksforgeeks.org/sieve-of-eratosthenes/ \"GeeksforGeeks: Sieve of Eratosthenes\")\n",
    "\n",
    "  \n",
    " 2. Trial Division:\n",
    "\n",
    " -  For each number, check if it is divisible by any number less than or equal to its square root. If no divisors are found, it is prime.\n",
    "\n",
    " - If a number n is divisible by any number then it’s not a prime number.[Trial Division Algorithm for Prime Factorization](https://www.geeksforgeeks.org/trial-division-algorithm-for-prime-factorization/ \"GeeksforGeeks: Trial Division Algorithm for Prime Factorization\")\n"
   ]
  },
  {
   "cell_type": "markdown",
   "metadata": {},
   "source": [
    "### Task 4 code"
   ]
  },
  {
   "cell_type": "markdown",
   "metadata": {},
   "source": [
    "## Task 5"
   ]
  },
  {
   "cell_type": "markdown",
   "metadata": {},
   "source": [
    "### Research on Task 5"
   ]
  },
  {
   "cell_type": "markdown",
   "metadata": {},
   "source": [
    "####  Fractional Part of a Square Root\n",
    "\n",
    "- When you take the square root of a number, it has two parts the whole number part before the decimal and the fractional part after the decimal.\n",
    "\n",
    "- The square root of 2 is approximately 1.414213....\n",
    "- The whole number part is 1.\n",
    "- The fractional part is 0.414213. [Calculate Fractional Part of Square Root Without Taking Square Root](https://math.stackexchange.com/questions/1277652/calculate-fractional-part-of-square-root-without-taking-square-root \"Math Stack Exchange: Calculate Fractional Part of Square Root Without Taking Square Root\")\n",
    "\n",
    "\n",
    "\n"
   ]
  },
  {
   "cell_type": "markdown",
   "metadata": {},
   "source": [
    "### Task 5 code"
   ]
  },
  {
   "cell_type": "markdown",
   "metadata": {},
   "source": [
    "## Task 6"
   ]
  },
  {
   "cell_type": "markdown",
   "metadata": {},
   "source": [
    "### Research on Task 6"
   ]
  },
  {
   "cell_type": "markdown",
   "metadata": {},
   "source": [
    "#### How SHA256 Works and Generating Hashes in Python\n",
    "\n",
    "- SHA256 is a cryptographic hash function that takes an input (like a word) and returns a fixed 256-bit hash.\n",
    "\n",
    "- Using the hashlib libary we can easily generate SHA256 hashes.[Python hashlib Library](https://docs.python.org/3/library/hashlib.html \"Python Docs: hashlib Library\")\n"
   ]
  },
  {
   "cell_type": "markdown",
   "metadata": {},
   "source": [
    "#### Hexadecimal to Binary Conversion \n",
    "\n",
    "- SHA256 outputs in hexadecimal (base-16), but to count leading zeros, you need the binary representation (base-2).\n",
    "\n",
    "- Count leading zeros: Use string functions like binary_hash.startswith('0') and loops or len().[Program to Convert Hexadecimal Number to Binary](https://www.geeksforgeeks.org/program-to-convert-hexadecimal-number-to-binary/ \"GeeksforGeeks: Program to Convert Hexadecimal Number to Binary\")\n"
   ]
  },
  {
   "cell_type": "markdown",
   "metadata": {},
   "source": [
    "####  Iterating Through English Word Lists\n",
    "\n",
    "- Use an English dictionary dataset to search for valid words"
   ]
  },
  {
   "cell_type": "markdown",
   "metadata": {},
   "source": [
    "### Task 6 code"
   ]
  },
  {
   "cell_type": "markdown",
   "metadata": {},
   "source": [
    "## Task 7"
   ]
  },
  {
   "cell_type": "markdown",
   "metadata": {},
   "source": [
    "### Research on Task 7"
   ]
  },
  {
   "cell_type": "markdown",
   "metadata": {},
   "source": [
    "#### Understanding What a Turing Machine Is\n",
    "\n",
    "- A Turing machine is a mathematical model of computation consisting of tape, head, set of states\n",
    "\n",
    "- A tape: Divided into cells that hold symbols (like 0, 1, or a blank).\n",
    "\n",
    "- A head: Reads and writes symbols on the tape and can move left or right.\n",
    "\n",
    "- A set of states: The machine transitions between states based on the current symbol under the head. [What's a Turing Machine and Why Does It Matter?](https://medium.com/background-thread/whats-a-turing-machine-and-why-does-it-matter-1cd1b4606c6a \"Medium: What's a Turing Machine and Why Does It Matter?\")\n"
   ]
  },
  {
   "cell_type": "markdown",
   "metadata": {},
   "source": [
    "#### Understanding Binary Addition\n",
    "\n",
    "- Adding 1 to a binary number follows similar rules to decimal addition:\n",
    "- Start at the least significant bit (right-most bit).\n",
    "- If the bit is 0, change it to 1 and stop.\n",
    "- If the bit is 1, change it to 0 and carry 1 to the next bit. [Binary Addition](https://byjus.com/maths/binary-addition/ \"BYJU'S: Binary Addition\")\n",
    "\n"
   ]
  },
  {
   "cell_type": "markdown",
   "metadata": {},
   "source": [
    "### Task 7 code"
   ]
  },
  {
   "cell_type": "markdown",
   "metadata": {},
   "source": [
    "## Task 8"
   ]
  },
  {
   "cell_type": "markdown",
   "metadata": {},
   "source": [
    "### Research on Task 8"
   ]
  },
  {
   "cell_type": "markdown",
   "metadata": {},
   "source": [
    " #### Bubble Sort Algorithm\n",
    "\n",
    " - Bubble sort is a comparison-based sorting algorithm that repeatedly steps through the list, compares adjacent elements, and swaps them if they are in the wrong order. The pass continues until the list is sorted. [Bubble Sort Algorithm](https://www.geeksforgeeks.org/bubble-sort-algorithm/ \"GeeksforGeeks: Bubble Sort Algorithm\")\n"
   ]
  },
  {
   "cell_type": "markdown",
   "metadata": {},
   "source": [
    "#### Counting Comparisons\n",
    "\n",
    "- A comparison occurs when two adjacent elements are evaluated to see if they need to be swapped.\n",
    "\n",
    "- Example:\n",
    "For the list [5, 3], a comparison is made to check if 5 > 3.\n",
    "\n",
    "- Introduce a counter variable that increments each time a comparison is made. [Counting Sort](https://www.geeksforgeeks.org/counting-sort/ \"GeeksforGeeks: Counting Sort\")\n"
   ]
  },
  {
   "cell_type": "markdown",
   "metadata": {},
   "source": [
    "#### Generating All Permutations\n",
    "\n",
    "- A permutation is a specific arrangement of a list’s elements. For a list of 5 elements, there are \n",
    "5\n",
    "!\n",
    "=\n",
    "120\n",
    "5!=120 permutations. [Permutation](https://www.geeksforgeeks.org/permutation/ \"GeeksforGeeks: Permutation\")\n"
   ]
  },
  {
   "cell_type": "markdown",
   "metadata": {},
   "source": [
    "### Task 8 code"
   ]
  }
 ],
 "metadata": {
  "kernelspec": {
   "display_name": "base",
   "language": "python",
   "name": "python3"
  },
  "language_info": {
   "codemirror_mode": {
    "name": "ipython",
    "version": 3
   },
   "file_extension": ".py",
   "mimetype": "text/x-python",
   "name": "python",
   "nbconvert_exporter": "python",
   "pygments_lexer": "ipython3",
   "version": "3.12.4"
  }
 },
 "nbformat": 4,
 "nbformat_minor": 2
}
